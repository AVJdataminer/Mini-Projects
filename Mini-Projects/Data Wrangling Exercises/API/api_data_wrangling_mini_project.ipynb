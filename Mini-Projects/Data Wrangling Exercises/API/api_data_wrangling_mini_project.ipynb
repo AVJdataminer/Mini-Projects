{
 "cells": [
  {
   "cell_type": "markdown",
   "metadata": {},
   "source": [
    "These are your tasks for this mini project:\n",
    "\n",
    "1. Collect data from the Franfurt Stock Exchange, for the ticker AFX_X, for the whole year 2017 (keep in mind that the date format is YYYY-MM-DD).\n",
    "2. Convert the returned JSON object into a Python dictionary.\n",
    "3. Calculate what the highest and lowest opening prices were for the stock in this period.\n",
    "4. What was the largest change in any one day (based on High and Low price)?\n",
    "5. What was the largest change between any two days (based on Closing Price)?\n",
    "6. What was the average daily trading volume during this year?\n",
    "7. (Optional) What was the median trading volume during this year. (Note: you may need to implement your own function for calculating the median.)"
   ]
  },
  {
   "cell_type": "code",
   "execution_count": 10,
   "metadata": {},
   "outputs": [],
   "source": [
    "import requests\n",
    "\n",
    "#1.  Collect data from the Frankfurt Stock Exchange, for the ticker AFX_X for the whole year of 2017\n",
    "r = requests.get('https://www.quandl.com/api/v3/datasets/FSE/AFX_X.json?start_date=2017-01-01&end_date=2017-12-31', auth=(USER, API_KEY))"
   ]
  },
  {
   "cell_type": "code",
   "execution_count": 11,
   "metadata": {},
   "outputs": [
    {
     "name": "stdout",
     "output_type": "stream",
     "text": [
      "['Date', 'Open', 'High', 'Low', 'Close', 'Change', 'Traded Volume', 'Turnover', 'Last Price of the Day', 'Daily Traded Units', 'Daily Turnover']\n"
     ]
    }
   ],
   "source": [
    "#2.  Converting the returned JSON object into a Python dictionary\n",
    "stock = r.json()\n",
    "\n",
    "#Investigating column names of dataset to note index position for later use\n",
    "print(stock['dataset']['column_names'])\n",
    "\n",
    "#Reassign data portion of JSON to variable stock_data\n",
    "stock_data = stock['dataset']['data']"
   ]
  },
  {
   "cell_type": "code",
   "execution_count": 12,
   "metadata": {},
   "outputs": [
    {
     "name": "stdout",
     "output_type": "stream",
     "text": [
      "The highest opening price in 2017 is 53.11.\n",
      "The lowest opening price in 2017 is 34.0.\n"
     ]
    }
   ],
   "source": [
    "#Create an empty list.  Then append all opening stock prices to the list if there is a value.\n",
    "opening=[]\n",
    "for day in stock_data:\n",
    "    if day[1] is not None:\n",
    "        opening.append(day[1])\n",
    "\n",
    "#3.  Calculate the highest and lowest opening prices were for the stock in 2017\n",
    "print('The highest opening price in 2017 is {}.'.format(max(opening)))\n",
    "print('The lowest opening price in 2017 is {}.'.format(min(opening)))"
   ]
  },
  {
   "cell_type": "code",
   "execution_count": 13,
   "metadata": {},
   "outputs": [
    {
     "name": "stdout",
     "output_type": "stream",
     "text": [
      "The largest change in any one day from low to high price is 2.8100000000000023.\n"
     ]
    }
   ],
   "source": [
    "#Create an empty list.  Then append change between high and low prices if both have a value.\n",
    "change=[]\n",
    "for day in stock_data:\n",
    "    if (day[2] is not None) & (day[3] is not None):\n",
    "        change.append(day[2]-day[3])\n",
    "\n",
    "#4.  Calculate the largest change in any one day (based on high and low price)\n",
    "print('The largest change in any one day from low to high price is {}.'.format(max(change)))"
   ]
  },
  {
   "cell_type": "code",
   "execution_count": 14,
   "metadata": {},
   "outputs": [
    {
     "name": "stdout",
     "output_type": "stream",
     "text": [
      "The largest change between any two days based on the closing price is 2.559999999999995.\n"
     ]
    }
   ],
   "source": [
    "#Create an empty list and counter.  Then append the absolute change in the closing price between two days.  Also has to check if both closing prices have a value.\n",
    "change=[]\n",
    "index=0\n",
    "while (index<(len(stock_data)-1)):\n",
    "    if (stock_data[index][4] is not None) & (stock_data[index+1][4] is not None):\n",
    "        change.append(abs(stock_data[index][4] - stock_data[index+1][4]))\n",
    "    index += 1\n",
    "\n",
    "#5.  Calculate the largest change between any two days (based on Closing Price)\n",
    "print('The largest change between any two days based on the closing price is {}.'.format(max(change)))"
   ]
  },
  {
   "cell_type": "code",
   "execution_count": 15,
   "metadata": {},
   "outputs": [
    {
     "name": "stdout",
     "output_type": "stream",
     "text": [
      "The average daily trading volume during 2017 is 89124.33725490196.\n"
     ]
    }
   ],
   "source": [
    "#Create an empty list.  Then append the trade_volume if the value exists.\n",
    "trade_volume=[]\n",
    "\n",
    "for day in stock_data:\n",
    "    if (day[6] is not None):\n",
    "        trade_volume.append(day[6])\n",
    "        \n",
    "#6.  Calculate the mean daily trading volume during 2017.\n",
    "avg = sum(trade_volume)/len(trade_volume)\n",
    "        \n",
    "print('The average daily trading volume during 2017 is {}.'.format(avg))"
   ]
  },
  {
   "cell_type": "code",
   "execution_count": 16,
   "metadata": {},
   "outputs": [
    {
     "name": "stdout",
     "output_type": "stream",
     "text": [
      "The median trading volume during 2017 is 76286.0\n"
     ]
    }
   ],
   "source": [
    "#Defining a function to calculate the median of a list.\n",
    "def median(x):\n",
    "    length = len(x)\n",
    "    x = sorted(x)\n",
    "    if length % 2 == 0:\n",
    "        return (x[length//2] + x[length//2-1])/2\n",
    "    else:\n",
    "        return x[length//2]\n",
    "\n",
    "#7. Calculate the median daily trading volume during 2017.\n",
    "print('The median trading volume during 2017 is {}'.format(median(trade_volume)))"
   ]
  }
 ],
 "metadata": {
  "kernelspec": {
   "display_name": "Python 3",
   "language": "python",
   "name": "python3"
  },
  "language_info": {
   "codemirror_mode": {
    "name": "ipython",
    "version": 3
   },
   "file_extension": ".py",
   "mimetype": "text/x-python",
   "name": "python",
   "nbconvert_exporter": "python",
   "pygments_lexer": "ipython3",
   "version": "3.6.5"
  }
 },
 "nbformat": 4,
 "nbformat_minor": 2
}
