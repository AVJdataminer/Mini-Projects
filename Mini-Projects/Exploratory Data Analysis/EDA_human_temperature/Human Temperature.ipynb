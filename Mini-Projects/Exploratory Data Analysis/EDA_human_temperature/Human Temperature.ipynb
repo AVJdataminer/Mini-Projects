{
 "cells": [
  {
   "cell_type": "markdown",
   "metadata": {},
   "source": [
    "# What is the True Normal Human Body Temperature? \n",
    "\n",
    "#### Background\n",
    "\n",
    "The mean normal body temperature was held to be 37$^{\\circ}$C or 98.6$^{\\circ}$F for more than 120 years since it was first conceptualized and reported by Carl Wunderlich in a famous 1868 book. But, is this value statistically correct?"
   ]
  },
  {
   "cell_type": "markdown",
   "metadata": {},
   "source": [
    "<h3>Exercises</h3>\n",
    "\n",
    "<p>In this exercise, you will analyze a dataset of human body temperatures and employ the concepts of hypothesis testing, confidence intervals, and statistical significance.</p>\n",
    "\n",
    "<p>Answer the following questions <b>in this notebook below and submit to your Github account</b>.</p> \n",
    "\n",
    "<ol>\n",
    "<li>  Is the distribution of body temperatures normal? \n",
    "    <ul>\n",
    "    <li> Although this is not a requirement for the Central Limit Theorem to hold (read the introduction on Wikipedia's page about the CLT carefully: https://en.wikipedia.org/wiki/Central_limit_theorem), it gives us some peace of mind that the population may also be normally distributed if we assume that this sample is representative of the population.\n",
    "    <li> Think about the way you're going to check for the normality of the distribution. Graphical methods are usually used first, but there are also other ways: https://en.wikipedia.org/wiki/Normality_test\n",
    "    </ul>\n",
    "<li>  Is the sample size large? Are the observations independent?\n",
    "    <ul>\n",
    "    <li> Remember that this is a condition for the Central Limit Theorem, and hence the statistical tests we are using, to apply.\n",
    "    </ul>\n",
    "<li>  Is the true population mean really 98.6 degrees F?\n",
    "    <ul>\n",
    "    <li> First, try a bootstrap hypothesis test.\n",
    "    <li> Now, let's try frequentist statistical testing. Would you use a one-sample or two-sample test? Why?\n",
    "    <li> In this situation, is it appropriate to use the $t$ or $z$ statistic? \n",
    "    <li> Now try using the other test. How is the result be different? Why?\n",
    "    </ul>\n",
    "<li>  Draw a small sample of size 10 from the data and repeat both frequentist tests. \n",
    "    <ul>\n",
    "    <li> Which one is the correct one to use? \n",
    "    <li> What do you notice? What does this tell you about the difference in application of the $t$ and $z$ statistic?\n",
    "    </ul>\n",
    "<li>  At what temperature should we consider someone's temperature to be \"abnormal\"?\n",
    "    <ul>\n",
    "    <li> As in the previous example, try calculating everything using the boostrap approach, as well as the frequentist approach.\n",
    "    <li> Start by computing the margin of error and confidence interval. When calculating the confidence interval, keep in mind that you should use the appropriate formula for one draw, and not N draws.\n",
    "    </ul>\n",
    "<li>  Is there a significant difference between males and females in normal temperature?\n",
    "    <ul>\n",
    "    <li> What testing approach did you use and why?\n",
    "    <li> Write a story with your conclusion in the context of the original problem.\n",
    "    </ul>\n",
    "</ol>\n",
    "\n",
    "You can include written notes in notebook cells using Markdown: \n",
    "   - In the control panel at the top, choose Cell > Cell Type > Markdown\n",
    "   - Markdown syntax: http://nestacms.com/docs/creating-content/markdown-cheat-sheet\n",
    "\n",
    "#### Resources\n",
    "\n",
    "+ Information and data sources: http://www.amstat.org/publications/jse/datasets/normtemp.txt, http://www.amstat.org/publications/jse/jse_data_archive.htm\n",
    "+ Markdown syntax: http://nestacms.com/docs/creating-content/markdown-cheat-sheet\n",
    "\n",
    "****"
   ]
  },
  {
   "cell_type": "code",
   "execution_count": 1,
   "metadata": {},
   "outputs": [],
   "source": [
    "import pandas as pd\n",
    "import numpy as np\n",
    "import matplotlib.pyplot as plt\n",
    "import seaborn as sns\n",
    "import scipy.stats as st\n",
    "\n",
    "df = pd.read_csv('data/human_body_temperature.csv')\n",
    "sns.set()\n",
    "plt.rcParams['figure.figsize'] = [10, 5]\n",
    "np.random.seed(728)"
   ]
  },
  {
   "cell_type": "markdown",
   "metadata": {
    "collapsed": true
   },
   "source": [
    "#### 1.  Is the distribution of body temperatures normal?"
   ]
  },
  {
   "cell_type": "markdown",
   "metadata": {},
   "source": [
    "One way to determine if the distribution of body temperatures is likely normal is graphically.  In the first graph, we have a histogram of the temperatures from the dataset.  It appears that this distribution is roughly symmetric, unimodal, and bell-shaped with no obvious outliers, suggesting that the sample did come from a normal population.  However, histograms can be misleading as you can regularly change the size or number of bins to influence the shape of the graph.\n",
    "\n",
    "In the second graph, I created an empirical cumulative density graph for our observed temperature data as well as what a normal curve should look like with the same mean and standard deviation as the sample.  As the two curves look very close to each other with only slight variations, this graph supports our earlier hypothesis that this sample of body temperatures likely came from a normal distribution."
   ]
  },
  {
   "cell_type": "code",
   "execution_count": 2,
   "metadata": {},
   "outputs": [
    {
     "data": {
      "image/png": "[encoded data removed]",
      "text/plain": [
       "<Figure size 432x288 with 2 Axes>"
      ]
     },
     "metadata": {},
     "output_type": "display_data"
    }
   ],
   "source": [
    "#Create histogram to visualize the distribution of the data\n",
    "plt.subplot(1,2,1)\n",
    "plt.hist(df.temperature, bins=10, density=True)\n",
    "plt.xlabel('Temperature')\n",
    "plt.ylabel('Proportion')\n",
    "\n",
    "#Create function to calculate the empirical cumulative density function (ecdf)\n",
    "def ecdf(data):\n",
    "    n=len(data)\n",
    "    x=np.sort(data)\n",
    "    y=np.arange(1, n+1)/n\n",
    "    \n",
    "    return x,y\n",
    "\n",
    "\n",
    "plt.subplot(1,2,2)\n",
    "#Take a random sample using the mean(mu) and standard deviation(sigma) from the sample of human body temperatures.\n",
    "sample_mean = np.mean(df.temperature)\n",
    "sample_std = np.std(df.temperature)\n",
    "n = len(df.temperature)\n",
    "sample = np.random.normal(sample_mean, sample_std, 10000)\n",
    "\n",
    "#Plot ecdf of a normal distribution with mean and standard deviation same as the sample\n",
    "x_norm, y_norm = ecdf(sample)\n",
    "_ = plt.plot(x_norm, y_norm, marker='.', linestyle='none', color='b')\n",
    "\n",
    "#Plot ecdf of sample data.\n",
    "x_temp, y_temp = ecdf(df.temperature)\n",
    "_ = plt.plot(x_temp, y_temp, marker='.', linestyle='none', color='r')\n",
    "_ = plt.xlabel('Temperature')\n",
    "_ = plt.ylabel('ECDF')\n",
    "_ = plt.legend(('Normal', 'Observed'), loc='lower right')\n",
    "plt.show()"
   ]
  },
  {
   "cell_type": "markdown",
   "metadata": {},
   "source": [
    "Another common way to check if a distribution likely came from a normal distribution is the Shapiro-Wilk test.  Because our P-value is relatively high as can be seen above, there is not statistically significant evidence to suggest that the distribution didn't come from a normal distribution."
   ]
  },
  {
   "cell_type": "code",
   "execution_count": 3,
   "metadata": {
    "scrolled": true
   },
   "outputs": [
    {
     "name": "stdout",
     "output_type": "stream",
     "text": [
      "Results of Shapiro-Wilk test for normality:\n",
      "Test statistic W = 0.9865769743919373 \n",
      "P-value = 0.2331680953502655\n"
     ]
    }
   ],
   "source": [
    "W, p = st.shapiro(df.temperature)\n",
    "print('Results of Shapiro-Wilk test for normality:\\n' +\n",
    "      'Test statistic W = {} \\n'.format(W) +\n",
    "      'P-value = {}'.format(p) )"
   ]
  },
  {
   "cell_type": "markdown",
   "metadata": {},
   "source": [
    "### 2. Is the sample size large? Are the observations independent?\n",
    "\n",
    "A sample size of 130 measurements is sufficiently large.\n",
    "\n",
    "Because the population size of all adults is substantially larger (at least 10 times) the size fo the sample, it is safe to assume that the observations are independent of one another (that is that the selection of one person's body temperature does not impact the next selection of a person's body temperature)."
   ]
  },
  {
   "cell_type": "code",
   "execution_count": 4,
   "metadata": {},
   "outputs": [
    {
     "name": "stdout",
     "output_type": "stream",
     "text": [
      "There are 130 measurements of body temperature in this dataset.\n"
     ]
    }
   ],
   "source": [
    "#Checking size of the sample\n",
    "print('There are {} measurements of body temperature in this dataset.'.format(len(df.temperature)))"
   ]
  },
  {
   "cell_type": "markdown",
   "metadata": {},
   "source": [
    "### 3. Is the true population mean really 98.6 degrees F?\n",
    "##### Bootstrap Hypothesis Test\n",
    "Even with 100,000 replications, there were no occurrences of an average body temperature as low or lower than the averaged we observed in our sample (as can be seen by the calculation fo the P-value as 0).  This is statistically significant evidence to suggest that the mean body temperature is actually lower than 98.6 degrees Fahrenheit."
   ]
  },
  {
   "cell_type": "code",
   "execution_count": 5,
   "metadata": {
    "scrolled": true
   },
   "outputs": [
    {
     "name": "stdout",
     "output_type": "stream",
     "text": [
      "P-value is approximately 0.0\n"
     ]
    }
   ],
   "source": [
    "#Bootstrap hypothesis test if the true population mean is really 98.6 degrees Fahrenheit\n",
    "translated_temp = df.temperature - np.mean(df.temperature) + 98.6\n",
    "\n",
    "#Initialize array of replicates.  Then generate replicates of the translated_temp.\n",
    "bs_replicates = np.empty(100000)\n",
    "\n",
    "#Create 100000 replicates.\n",
    "for i in range(100000):\n",
    "    bs_replicates[i]= np.mean(np.random.choice(translated_temp, size=len(df.temperature)))\n",
    "    \n",
    "#Calculate the empirical probability of finding an average temperature as low or lower\n",
    "p = np.sum(bs_replicates <= np.mean(df.temperature)) /len(bs_replicates)\n",
    "print('P-value is approximately {}'.format(p))"
   ]
  },
  {
   "cell_type": "markdown",
   "metadata": {},
   "source": [
    "##### Frequentist Statistical Test\n",
    "In this situation, we should use a one-sample hypothesis test with a t test statistic because we have a single sample of body temperatures and we only have the sample mean and standard deviation as estimates for the populatin parameters.\n",
    "\n",
    "In both cases, the p-value is also incredibly small and supports our previous conclusion that there is statistically significant evidence that the true mean body temperature is actually lower than 98.6 degrees Fahrenheit.\n",
    "\n",
    "However, why are our results substantially different when we use a t-distribution instead of the normal distribution.  This arises from the use of the sample mean and standard deviation as estimators of the population mean and standard deviation.  The t-distribution compensates for the variability in the sample values by having more probability for the extreme values, especially for small sample sizes."
   ]
  },
  {
   "cell_type": "code",
   "execution_count": 6,
   "metadata": {},
   "outputs": [
    {
     "name": "stdout",
     "output_type": "stream",
     "text": [
      "Results of 1-sample t-test for means:\n",
      "Test statistic t = -5.475925202078116 \n",
      "P-value = 1.0943732312047587e-07\n"
     ]
    }
   ],
   "source": [
    "statistic = (sample_mean - 98.6)/(sample_std / np.sqrt(n))\n",
    "p_t = st.t.cdf(statistic, df = n-1)\n",
    "print('Results of 1-sample t-test for means:\\n' +\n",
    "      'Test statistic t = {} \\n'.format(statistic) +\n",
    "      'P-value = {}'.format(p_t))"
   ]
  },
  {
   "cell_type": "code",
   "execution_count": 7,
   "metadata": {},
   "outputs": [
    {
     "name": "stdout",
     "output_type": "stream",
     "text": [
      "Results of 1-sample z-test for means:\n",
      "Test statistic z = -5.475925202078116 \n",
      "P-value = 2.1761575829410943e-08\n"
     ]
    }
   ],
   "source": [
    "p_z = st.norm.cdf(statistic)\n",
    "print('Results of 1-sample z-test for means:\\n' +\n",
    "      'Test statistic z = {} \\n'.format(statistic) +\n",
    "      'P-value = {}'.format(p_z))"
   ]
  },
  {
   "cell_type": "markdown",
   "metadata": {},
   "source": [
    "### 4. Draw a small sample of size 10 from the data and repeat both frequentist tests.\n",
    "The correct method to use would be the t-distribution as we do not have the population mean and standard deviation, and must use the sample mean and standard deviation as our best estimations.\n",
    "\n",
    "Again, we see that the p-value for the t-distribution is significantly larger than for the normal distribution.  However, the different was not as pronounced when I had a larger sample size.  This suggests to me that the t-distribution is less like the normal distribution for smaller sample sizes."
   ]
  },
  {
   "cell_type": "code",
   "execution_count": 8,
   "metadata": {},
   "outputs": [
    {
     "name": "stdout",
     "output_type": "stream",
     "text": [
      "Results of 1-sample t-test for means:\n",
      "Test statistic t = -0.47673129462270053 \n",
      "P-value = 0.32245775673245625\n"
     ]
    }
   ],
   "source": [
    "#Draw a sample of size n=10 without replacement\n",
    "sample = np.random.choice(df.temperature, size=10, replace=False)\n",
    "\n",
    "statistic_sample10 = (np.mean(sample) - 98.6) / (np.std(sample) / np.sqrt(len(sample)))\n",
    "p_t10 = st.t.cdf(statistic_sample10, df=10-1)\n",
    "\n",
    "print('Results of 1-sample t-test for means:\\n' +\n",
    "      'Test statistic t = {} \\n'.format(statistic_sample10) +\n",
    "      'P-value = {}'.format(p_t10))"
   ]
  },
  {
   "cell_type": "code",
   "execution_count": 9,
   "metadata": {},
   "outputs": [
    {
     "name": "stdout",
     "output_type": "stream",
     "text": [
      "Results of 1-sample z-test for means:\n",
      "Test statistic z = -0.47673129462270053 \n",
      "P-value = 0.3167767376884507\n"
     ]
    }
   ],
   "source": [
    "p_z10 = st.norm.cdf(statistic_sample10)\n",
    "\n",
    "print('Results of 1-sample z-test for means:\\n' +\n",
    "      'Test statistic z = {} \\n'.format(statistic_sample10) +\n",
    "      'P-value = {}'.format(p_z10))"
   ]
  },
  {
   "cell_type": "markdown",
   "metadata": {},
   "source": [
    "### 5.  At what temperature should we consider someone's temperature to be abnormal?\n",
    "Depending on which method you use, you get substantially different responses.  Using the bootstrap method, anything outside the range of 96.7 to 99.5 degrees Fahrenheit would be considered abnormal.  Using the frequentist method, anything outside the range of 88.97 to 107.5 degrees Fahrenheit would be considered abnormal.  The bootstrap method seems to be more reliable for confidence intervals of size = 1."
   ]
  },
  {
   "cell_type": "code",
   "execution_count": 10,
   "metadata": {},
   "outputs": [
    {
     "name": "stdout",
     "output_type": "stream",
     "text": [
      "Using the bootstrap method, a 95% confidence interval for body temperature is [96.7 99.5] degrees Fahrenheit.\n"
     ]
    }
   ],
   "source": [
    "#Initialize array of replicates.\n",
    "bs_replicates = np.empty(10000)\n",
    "\n",
    "#Create 10000 replicates.\n",
    "for i in range(10000):\n",
    "    bs_replicates[i]= np.random.choice(df.temperature, size=1)\n",
    "    \n",
    "#Compute 95% confidence interval from replicates\n",
    "conf_int = np.percentile(bs_replicates, [2.5, 97.5])\n",
    "print('Using the bootstrap method, a 95% confidence interval for body temperature is {} degrees Fahrenheit.'.format(conf_int))"
   ]
  },
  {
   "cell_type": "code",
   "execution_count": 11,
   "metadata": {},
   "outputs": [
    {
     "name": "stdout",
     "output_type": "stream",
     "text": [
      "Using the frequentist method, a 95% confidence interval for body temperature is [88.96915529961757, 107.52930623884399] degrees Fahrenheit.\n"
     ]
    }
   ],
   "source": [
    "t_critical = st.t.ppf(.975,1)\n",
    "\n",
    "conf_int = [sample_mean - t_critical*sample_std, sample_mean + t_critical*sample_std]\n",
    "\n",
    "print('Using the frequentist method, a 95% confidence interval for body temperature is {} degrees Fahrenheit.'.format(conf_int))"
   ]
  },
  {
   "cell_type": "markdown",
   "metadata": {},
   "source": [
    "### 6. Is there a significant difference between males and females in normal temperature?\n",
    "I opted to use the bootstrap method to perform this calculation, because it gave me the opportunity to practice some of my coding skills in Python.  It also seems like this method can be used in a lot more situations than the frequentist methods.\n",
    "\n",
    "Because the p-value is small, there is statistically significant evidence to suggest that the average body temperature for a man is lower than the average body temperature for a woman.  "
   ]
  },
  {
   "cell_type": "code",
   "execution_count": 12,
   "metadata": {},
   "outputs": [],
   "source": [
    "males = df.loc[df.gender == 'M']\n",
    "females = df.loc[df.gender == 'F']"
   ]
  },
  {
   "cell_type": "code",
   "execution_count": 13,
   "metadata": {},
   "outputs": [
    {
     "name": "stdout",
     "output_type": "stream",
     "text": [
      "The P-value is: 0.0007\n"
     ]
    }
   ],
   "source": [
    "males_shifted = males.temperature - np.mean(males.temperature) + sample_mean\n",
    "females_shifted = females.temperature - np.mean(females.temperature) + sample_mean\n",
    "\n",
    "male_replicates=np.empty(10000)\n",
    "female_replicates = np.empty(10000)\n",
    "\n",
    "for i in range(10000):\n",
    "    male_replicates[i] = np.mean(np.random.choice(df.temperature, size=len(df.temperature)))\n",
    "    female_replicates[i] = np.mean(np.random.choice(df.temperature, size=len(df.temperature)))\n",
    "    \n",
    "difference_replicates = male_replicates - female_replicates\n",
    "\n",
    "p = np.sum(difference_replicates < (np.mean(males.temperature) - np.mean(females.temperature))) / len(male_replicates)\n",
    "\n",
    "print('The P-value is: {}'.format(p))"
   ]
  }
 ],
 "metadata": {
  "kernelspec": {
   "display_name": "Python 3",
   "language": "python",
   "name": "python3"
  },
  "language_info": {
   "codemirror_mode": {
    "name": "ipython",
    "version": 3
   },
   "file_extension": ".py",
   "mimetype": "text/x-python",
   "name": "python",
   "nbconvert_exporter": "python",
   "pygments_lexer": "ipython3",
   "version": "3.6.5"
  }
 },
 "nbformat": 4,
 "nbformat_minor": 1
}
